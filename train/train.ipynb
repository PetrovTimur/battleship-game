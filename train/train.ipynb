{
 "cells": [
  {
   "metadata": {
    "ExecuteTime": {
     "end_time": "2025-04-28T08:36:51.083783Z",
     "start_time": "2025-04-28T08:36:49.820082Z"
    }
   },
   "cell_type": "code",
   "source": [
    "import math\n",
    "import random\n",
    "from collections import namedtuple, deque\n",
    "from itertools import count\n",
    "\n",
    "import torch\n",
    "from torch import nn, optim\n",
    "from torch.nn.functional import relu\n",
    "\n",
    "import matplotlib.pyplot as plt\n",
    "import matplotlib\n",
    "import numpy as np"
   ],
   "id": "5ac40aceef7c17b5",
   "outputs": [],
   "execution_count": 1
  },
  {
   "metadata": {
    "ExecuteTime": {
     "end_time": "2025-04-28T08:44:51.701644Z",
     "start_time": "2025-04-28T08:44:51.670358Z"
    }
   },
   "cell_type": "code",
   "source": [
    "is_ipython = 'inline' in matplotlib.get_backend()\n",
    "if is_ipython:\n",
    "    from IPython import display\n",
    "\n",
    "plt.ion()\n",
    "\n",
    "device = torch.device(\"cuda\" if torch.cuda.is_available() else \"cpu\")"
   ],
   "id": "30f6d77a07761022",
   "outputs": [],
   "execution_count": 16
  },
  {
   "metadata": {
    "ExecuteTime": {
     "end_time": "2025-04-28T11:40:55.739900Z",
     "start_time": "2025-04-28T11:40:55.734280Z"
    }
   },
   "cell_type": "code",
   "source": [
    "from battleship.logic.game import Field\n",
    "\n",
    "class ActionSpace:\n",
    "    def __init__(self, env):\n",
    "        self.env = env\n",
    "\n",
    "    def sample(self):\n",
    "        # Randomly sample a valid action (untried cell)\n",
    "        legal = self.env.legal_actions()\n",
    "        return random.choice(legal) if legal else 0  # fallback to 0 if no legal actions.\n",
    "\n",
    "class BattleshipEnv:\n",
    "    def __init__(self):\n",
    "        self.size = 10\n",
    "        self.n_actions = self.size * self.size\n",
    "        self.n_observations = self.size * self.size\n",
    "        self.enemy_field = None\n",
    "        self.agent_field = None\n",
    "        self.agent_view = None\n",
    "        self.done = False\n",
    "        self.remaining = None\n",
    "        self.action_space = ActionSpace(self)\n",
    "\n",
    "\n",
    "    def _get_obs(self):\n",
    "        # one‑hot encode 0=unknown, 1=miss, 2=hit\n",
    "        v = self.agent_view\n",
    "        o0 = (v == 0).astype(np.float32)\n",
    "        o1 = (v == 1).astype(np.float32)\n",
    "        o2 = (v == 2).astype(np.float32)\n",
    "        return np.stack([o0, o1, o2], axis=0)  # shape (3,10,10)\n",
    "\n",
    "    def reset(self):\n",
    "        self.enemy_field = Field()\n",
    "        self.enemy_field.auto_place()\n",
    "        self.agent_view = np.zeros((10,10), dtype=np.int8)\n",
    "        self.done = False\n",
    "        self.remaining = sum(s.size for s in self.enemy_field.ships)\n",
    "        return self._get_obs(), {}\n",
    "\n",
    "    def step(self, action):\n",
    "        if self.done:\n",
    "            raise Exception(\"Game is over. Call reset().\")\n",
    "        x, y = divmod(action, self.size)\n",
    "        if self.agent_view[x, y] != 0:\n",
    "            # Invalid move (already shot here)\n",
    "            reward = -5.0\n",
    "            self.done = True\n",
    "            return self._get_obs(), reward, self.done, False, {}\n",
    "        result = self.enemy_field.check((x, y))\n",
    "        if result == 'hit':\n",
    "            self.agent_view[x, y] = 2\n",
    "            reward = 1.0\n",
    "            self.remaining -= 1\n",
    "        elif result == 'sank':\n",
    "            self.agent_view[x, y] = 2\n",
    "            reward = 5.0\n",
    "            self.remaining -= 1\n",
    "        else:\n",
    "            self.agent_view[x, y] = 1\n",
    "            reward = -1.0\n",
    "        if self.remaining == 0:\n",
    "            self.done = True\n",
    "            reward += 100.0  # Win bonus\n",
    "        return self._get_obs(), reward, self.done, False, {}\n",
    "\n",
    "    def legal_actions(self):\n",
    "        # Returns a list of valid action indices\n",
    "        return [i for i in range(self.n_actions) if self.agent_view.flat[i] == 0]"
   ],
   "id": "b825962426ed1eb2",
   "outputs": [],
   "execution_count": 116
  },
  {
   "metadata": {
    "collapsed": true,
    "ExecuteTime": {
     "end_time": "2025-04-28T08:51:37.759866Z",
     "start_time": "2025-04-28T08:51:37.756701Z"
    }
   },
   "cell_type": "code",
   "source": [
    "class DQN(nn.Module):\n",
    "    def __init__(self, n_observations, n_actions=100):\n",
    "        super(DQN, self).__init__()\n",
    "        self.layer1 = nn.Linear(100, 128)\n",
    "        self.layer2 = nn.Linear(128, 128)\n",
    "        self.layer3 = nn.Linear(128, n_actions)\n",
    "\n",
    "    def forward(self, x):\n",
    "        x = relu(self.layer1(x))\n",
    "        x = relu(self.layer2(x))\n",
    "\n",
    "        return self.layer3(x)"
   ],
   "id": "initial_id",
   "outputs": [],
   "execution_count": 23
  },
  {
   "metadata": {
    "ExecuteTime": {
     "end_time": "2025-04-28T09:36:53.238807Z",
     "start_time": "2025-04-28T09:36:53.235567Z"
    }
   },
   "cell_type": "code",
   "source": [
    "class DQN(nn.Module):\n",
    "    def __init__(self, n_observations=1, n_actions=100):\n",
    "        super().__init__()\n",
    "        self.conv1 = nn.Conv2d(3, 32, kernel_size=3, padding=1)\n",
    "        self.conv2 = nn.Conv2d(32, 64, kernel_size=3, padding=1)\n",
    "        self.conv3 = nn.Conv2d(64, 64, kernel_size=3, padding=1)\n",
    "        self.fc1 = nn.Linear(64 * 10 * 10, 128)\n",
    "        self.fc2 = nn.Linear(128, n_actions)\n",
    "\n",
    "    def forward(self, x):\n",
    "        # x: (batch, 1, 10, 10)\n",
    "        # x = x.view(x.size(0), 1, 10, 10)\n",
    "        x = relu(self.conv1(x))\n",
    "        x = relu(self.conv2(x))\n",
    "        x = relu(self.conv3(x))\n",
    "        x = x.view(x.size(0), -1)  # flatten\n",
    "        x = relu(self.fc1(x))\n",
    "        return self.fc2(x)  # (batch, 100)"
   ],
   "id": "d76df6e4c141abe1",
   "outputs": [],
   "execution_count": 94
  },
  {
   "metadata": {
    "ExecuteTime": {
     "end_time": "2025-04-28T08:57:57.313952Z",
     "start_time": "2025-04-28T08:57:57.310316Z"
    }
   },
   "cell_type": "code",
   "source": [
    "Transition = namedtuple('Transition', ('state', 'action', 'next_state', 'reward'))\n",
    "\n",
    "\n",
    "class ReplayMemory(object):\n",
    "\n",
    "    def __init__(self, capacity):\n",
    "        self.memory = deque([], maxlen=capacity)\n",
    "\n",
    "    def push(self, *args):\n",
    "        \"\"\"Save a transition\"\"\"\n",
    "        self.memory.append(Transition(*args))\n",
    "\n",
    "    def sample(self, batch_size):\n",
    "        return random.sample(self.memory, batch_size)\n",
    "\n",
    "    def __len__(self):\n",
    "        return len(self.memory)"
   ],
   "id": "77108852d4d5ba93",
   "outputs": [],
   "execution_count": 41
  },
  {
   "metadata": {
    "ExecuteTime": {
     "end_time": "2025-04-28T09:18:29.123456Z",
     "start_time": "2025-04-28T09:18:29.117190Z"
    }
   },
   "cell_type": "code",
   "source": [
    "steps_done = 0\n",
    "EPS_START = 0.9\n",
    "EPS_END = 0.05\n",
    "EPS_DECAY = 1000\n",
    "\n",
    "def select_action(state):\n",
    "    global steps_done\n",
    "    sample = random.random()\n",
    "    eps_threshold = EPS_END + (EPS_START - EPS_END) * math.exp(-1. * steps_done / EPS_DECAY)    # TODO: change threshold formula\n",
    "    steps_done += 1\n",
    "    if sample > eps_threshold:\n",
    "        with torch.no_grad():\n",
    "            q_values = policy_net(state)\n",
    "            legal = env.legal_actions()\n",
    "            mask = torch.full(q_values.shape, float('-inf'), device=device)\n",
    "            mask[0, legal] = 0  # Only legal actions are unmasked\n",
    "            masked_q_values = q_values + mask\n",
    "            return masked_q_values.max(1).indices.view(1, 1)\n",
    "    else:\n",
    "        return torch.tensor([[env.action_space.sample()]], device=device, dtype=torch.long)\n",
    "\n",
    "\n",
    "def plot_durations(show_result=False):\n",
    "    plt.figure(1)\n",
    "    durations_t = torch.tensor(episode_durations, dtype=torch.float)\n",
    "    if show_result:\n",
    "        plt.title('Result')\n",
    "    else:\n",
    "        plt.clf()\n",
    "        plt.title('Training...')\n",
    "    plt.xlabel('Episode')\n",
    "    plt.ylabel('Duration')\n",
    "    plt.plot(durations_t.numpy())\n",
    "    # Take 100 episode averages and plot them too\n",
    "    if len(durations_t) >= 100:\n",
    "        means = durations_t.unfold(0, 100, 1).mean(1).view(-1)\n",
    "        means = torch.cat((torch.zeros(99), means))\n",
    "        plt.plot(means.numpy())\n",
    "\n",
    "    plt.pause(0.001)  # pause a bit so that plots are updated\n",
    "    if is_ipython:\n",
    "        if not show_result:\n",
    "            display.display(plt.gcf())\n",
    "            display.clear_output(wait=True)\n",
    "        else:\n",
    "            display.display(plt.gcf())"
   ],
   "id": "b2963389c1080682",
   "outputs": [],
   "execution_count": 78
  },
  {
   "metadata": {
    "ExecuteTime": {
     "end_time": "2025-04-28T11:34:07.838252Z",
     "start_time": "2025-04-28T11:34:07.820625Z"
    }
   },
   "cell_type": "code",
   "source": [
    "lr = 1e-4\n",
    "gamma = 0.99\n",
    "tau = 0.005\n",
    "batch_size = 128\n",
    "\n",
    "env = BattleshipEnv()\n",
    "n_observations = env.n_observations\n",
    "n_actions = env.n_actions\n",
    "\n",
    "policy_net = DQN(n_observations, n_actions).to(device)\n",
    "target_net = DQN(n_observations, n_actions).to(device)\n",
    "target_net.load_state_dict(policy_net.state_dict())\n",
    "\n",
    "optimizer = optim.Adam(policy_net.parameters(), lr=lr)\n",
    "memory = ReplayMemory(10000)"
   ],
   "id": "b23ad5d0c28f6f30",
   "outputs": [],
   "execution_count": 108
  },
  {
   "metadata": {
    "ExecuteTime": {
     "end_time": "2025-04-28T09:37:47.075758Z",
     "start_time": "2025-04-28T09:37:47.067678Z"
    }
   },
   "cell_type": "code",
   "source": [
    "def optimize_model():\n",
    "    if len(memory) < batch_size:\n",
    "        return\n",
    "    transitions = memory.sample(batch_size)\n",
    "    batch = Transition(*zip(*transitions))\n",
    "\n",
    "    non_final_mask = torch.tensor(tuple(map(lambda s: s is not None, batch.next_state)), device=device, dtype=torch.bool)\n",
    "    non_final_next_states = torch.cat([s for s in batch.next_state if s is not None])\n",
    "\n",
    "    state_batch = torch.cat(batch.state)\n",
    "    action_batch = torch.cat(batch.action)\n",
    "    reward_batch = torch.cat(batch.reward)\n",
    "\n",
    "    # Compute Q(s_t, a) - the model computes Q(s_t), then we select the\n",
    "    # columns of actions taken. These are the actions which would've been taken\n",
    "    # for each batch state according to policy_net\n",
    "    state_action_values = policy_net(state_batch).gather(1, action_batch)\n",
    "\n",
    "    # Compute V(s_{t+1}) for all next states.\n",
    "    # Expected values of actions for non_final_next_states are computed based\n",
    "    # on the \"older\" target_net; selecting their best reward with max(1).values\n",
    "    # This is merged based on the mask, such that we'll have either the expected\n",
    "    # state value or 0 in case the state was final.\n",
    "    next_state_values = torch.zeros(batch_size, device=device)\n",
    "    with torch.no_grad():\n",
    "        next_state_values[non_final_mask] = target_net(non_final_next_states).max(1).values\n",
    "    # Compute the expected Q values\n",
    "    expected_state_action_values = (next_state_values * gamma) + reward_batch\n",
    "\n",
    "    # Compute Huber loss\n",
    "    criterion = nn.SmoothL1Loss()\n",
    "    loss = criterion(state_action_values, expected_state_action_values.unsqueeze(1))\n",
    "\n",
    "    # Optimize the model\n",
    "    optimizer.zero_grad()\n",
    "    loss.backward()\n",
    "    # In-place gradient clipping\n",
    "    torch.nn.utils.clip_grad_value_(policy_net.parameters(), 100)\n",
    "    optimizer.step()\n",
    "\n",
    "    # In optimize_model(), after optimizer.step():\n",
    "    loss_history.append(loss.item())"
   ],
   "id": "ee2f30f22e8ebf8a",
   "outputs": [],
   "execution_count": 103
  },
  {
   "metadata": {
    "ExecuteTime": {
     "end_time": "2025-04-28T11:35:05.430818Z",
     "start_time": "2025-04-28T11:35:05.422123Z"
    }
   },
   "cell_type": "code",
   "source": [
    "TARGET_UPDATE_EPISODES = 10\n",
    "\n",
    "def optimize_model():\n",
    "    if len(memory) < batch_size:\n",
    "        return\n",
    "    transitions = memory.sample(batch_size)\n",
    "    batch = Transition(*zip(*transitions))\n",
    "\n",
    "    non_final_mask = torch.tensor(\n",
    "        tuple(map(lambda s: s is not None, batch.next_state)),\n",
    "        device=device, dtype=torch.bool\n",
    "    )\n",
    "    non_final_next = torch.cat([s for s in batch.next_state if s is not None])\n",
    "\n",
    "    state_batch = torch.cat(batch.state)\n",
    "    action_batch = torch.cat(batch.action)\n",
    "    reward_batch = torch.cat(batch.reward)\n",
    "\n",
    "    # Q(s, a)\n",
    "    state_q = policy_net(state_batch).gather(1, action_batch)\n",
    "\n",
    "    # Double DQN:\n",
    "    # 1) select best next actions by policy_net\n",
    "    next_policy_q = policy_net(non_final_next)\n",
    "    next_actions  = next_policy_q.argmax(dim=1, keepdim=True)\n",
    "    # 2) evaluate those actions using target_net\n",
    "    with torch.no_grad():\n",
    "        next_target_q = target_net(non_final_next).gather(1, next_actions).squeeze(1)\n",
    "\n",
    "    next_state_values = torch.zeros(batch_size, device=device)\n",
    "    next_state_values[non_final_mask] = next_target_q\n",
    "\n",
    "    expected_q = reward_batch + gamma * next_state_values\n",
    "\n",
    "    loss = nn.SmoothL1Loss()(state_q, expected_q.unsqueeze(1))\n",
    "    optimizer.zero_grad()\n",
    "    loss.backward()\n",
    "    torch.nn.utils.clip_grad_norm_(policy_net.parameters(), max_norm=1.0)\n",
    "    optimizer.step()\n",
    "    loss_history.append(loss.item())"
   ],
   "id": "e6e0f3ee31ddf6b",
   "outputs": [],
   "execution_count": 114
  },
  {
   "metadata": {
    "ExecuteTime": {
     "end_time": "2025-04-28T11:35:03.926504Z",
     "start_time": "2025-04-28T11:35:03.924315Z"
    }
   },
   "cell_type": "code",
   "source": [
    "num_episodes = 1400\n",
    "episode_durations = []\n",
    "# Add at top of file\n",
    "episode_rewards = []\n",
    "loss_history = []"
   ],
   "id": "a4067d5807ec02bd",
   "outputs": [],
   "execution_count": 112
  },
  {
   "metadata": {},
   "cell_type": "code",
   "source": [
    "# single training loop, no double‐loops, no soft updates:\n",
    "for i_episode in range(num_episodes):\n",
    "    state, _ = env.reset()\n",
    "    state = torch.tensor(state, device=device).unsqueeze(0)\n",
    "    total_reward = 0.0\n",
    "\n",
    "    for t in count():\n",
    "        action = select_action(state)\n",
    "        obs, reward, done, _, _ = env.step(action.item())\n",
    "        total_reward += reward\n",
    "        reward_t = torch.tensor([reward], device=device)\n",
    "        next_state = None if done else torch.tensor(obs, device=device).unsqueeze(0)\n",
    "\n",
    "        memory.push(state, action, next_state, reward_t)\n",
    "        state = next_state\n",
    "\n",
    "        optimize_model()\n",
    "        if done:\n",
    "            break\n",
    "\n",
    "    episode_rewards.append(total_reward)\n",
    "    episode_durations.append(t + 1)\n",
    "\n",
    "    # hard update every N episodes\n",
    "    if i_episode % TARGET_UPDATE_EPISODES == 0:\n",
    "        target_net.load_state_dict(policy_net.state_dict())\n",
    "\n",
    "    if i_episode % 50 == 0:\n",
    "        avg_r = sum(episode_rewards[-20:]) / 20\n",
    "        avg_l = sum(loss_history[-100:]) / min(len(loss_history), 100)\n",
    "        avg_duration = sum(episode_durations[-20:]) / 20\n",
    "        print(f\"Ep {i_episode}  avg_reward_20={avg_r:.2f}  avg_duration_20={avg_duration:.2f}  avg_loss_100={avg_l:.4f}\")"
   ],
   "id": "5fd870641f78d3c",
   "outputs": [],
   "execution_count": null
  },
  {
   "metadata": {},
   "cell_type": "code",
   "source": [
    "for i_episode in range(num_episodes):\n",
    "    print(i_episode)\n",
    "    state, info = env.reset()\n",
    "\n",
    "    state = torch.tensor(state, dtype=torch.float32, device=device).unsqueeze(0)\n",
    "    for t in count():\n",
    "        action = select_action(state)\n",
    "        observation, reward, terminated, truncated, _ = env.step(action.item())\n",
    "        reward = torch.tensor([reward], dtype=torch.float32, device=device)\n",
    "        done = terminated or truncated\n",
    "\n",
    "        if terminated:\n",
    "            next_state = None\n",
    "        else:\n",
    "            next_state = torch.tensor(observation, dtype=torch.float32, device=device).unsqueeze(0)\n",
    "\n",
    "        # Store the transition in memory\n",
    "        memory.push(state, action, next_state, reward)\n",
    "\n",
    "        # Move to the next state\n",
    "        state = next_state\n",
    "\n",
    "        # Perform one step of the optimization (on the policy network)\n",
    "        optimize_model()\n",
    "\n",
    "        # Soft update of the target network's weights\n",
    "        # θ′ ← τ θ + (1 −τ )θ′\n",
    "        target_net_state_dict = target_net.state_dict()\n",
    "        policy_net_state_dict = policy_net.state_dict()\n",
    "        for key in policy_net_state_dict:\n",
    "            target_net_state_dict[key] = policy_net_state_dict[key]*tau + target_net_state_dict[key]*(1-tau)\n",
    "        target_net.load_state_dict(target_net_state_dict)\n",
    "\n",
    "        if done:\n",
    "            episode_durations.append(t + 1)\n",
    "            # plot_durations()\n",
    "            break"
   ],
   "id": "e7cd76830e2414b3",
   "outputs": [],
   "execution_count": null
  },
  {
   "metadata": {
    "ExecuteTime": {
     "end_time": "2025-04-28T09:39:51.340639Z",
     "start_time": "2025-04-28T09:39:51.259317Z"
    }
   },
   "cell_type": "code",
   "source": [
    "print('Complete')\n",
    "plot_durations(show_result=True)\n",
    "plt.ioff()\n",
    "plt.show()"
   ],
   "id": "c1e0cc4af63df9dd",
   "outputs": [
    {
     "name": "stdout",
     "output_type": "stream",
     "text": [
      "Complete\n"
     ]
    },
    {
     "data": {
      "text/plain": [
       "<Figure size 640x480 with 1 Axes>"
      ],
      "image/png": "[encoded data removed]"
     },
     "metadata": {},
     "output_type": "display_data"
    },
    {
     "data": {
      "text/plain": [
       "<Figure size 640x480 with 0 Axes>"
      ]
     },
     "metadata": {},
     "output_type": "display_data"
    },
    {
     "data": {
      "text/plain": [
       "<Figure size 640x480 with 0 Axes>"
      ]
     },
     "metadata": {},
     "output_type": "display_data"
    }
   ],
   "execution_count": 106
  },
  {
   "metadata": {
    "ExecuteTime": {
     "end_time": "2025-04-28T08:54:49.270096Z",
     "start_time": "2025-04-28T08:54:49.241488Z"
    }
   },
   "cell_type": "code",
   "source": [
    "env = BattleshipEnv()\n",
    "num_episodes = 1\n",
    "\n",
    "for episode in range(num_episodes):\n",
    "    state, info = env.reset()\n",
    "    done = False\n",
    "    total_reward = 0\n",
    "    steps = 0\n",
    "\n",
    "    state = torch.tensor(state, dtype=torch.float32, device=device).unsqueeze(0)\n",
    "    while not done:\n",
    "        # action = select_action(state)\n",
    "        # print(action)\n",
    "        print(policy_net(state).max(1).indices.view(1, 1))\n",
    "        obs, reward, done, truncated, _ = env.step(action.item())\n",
    "        total_reward += reward\n",
    "        steps += 1\n",
    "    print(f\"Episode {episode+1}: Steps={steps}, Total Reward={total_reward}\")"
   ],
   "id": "2498028350682e21",
   "outputs": [
    {
     "name": "stdout",
     "output_type": "stream",
     "text": [
      "tensor([[77]], device='cuda:0')\n",
      "tensor([[77]], device='cuda:0')\n",
      "Episode 1: Steps=2, Total Reward=-6.0\n"
     ]
    }
   ],
   "execution_count": 33
  }
 ],
 "metadata": {
  "kernelspec": {
   "display_name": "Python 3",
   "language": "python",
   "name": "python3"
  },
  "language_info": {
   "codemirror_mode": {
    "name": "ipython",
    "version": 2
   },
   "file_extension": ".py",
   "mimetype": "text/x-python",
   "name": "python",
   "nbconvert_exporter": "python",
   "pygments_lexer": "ipython2",
   "version": "2.7.6"
  }
 },
 "nbformat": 4,
 "nbformat_minor": 5
}
